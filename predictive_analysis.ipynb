{
 "cells": [
  {
   "cell_type": "code",
   "execution_count": 13,
   "metadata": {
    "collapsed": true
   },
   "outputs": [],
   "source": [
    "import pandas as pd\n",
    "import numpy as np\n",
    "import datetime\n",
    "import psycopg2\n",
    "from matplotlib import pyplot as plt"
   ]
  },
  {
   "cell_type": "code",
   "execution_count": 2,
   "metadata": {
    "collapsed": true
   },
   "outputs": [],
   "source": [
    "conn = psycopg2.connect(dbname=\"local_density\", user=\"adi\", password=\"password\")"
   ]
  },
  {
   "cell_type": "code",
   "execution_count": 3,
   "metadata": {
    "collapsed": true
   },
   "outputs": [],
   "source": [
    "SELECT = \"\"\"\n",
    "    SELECT d.client_count, d.dump_time,\n",
    "           r.id AS group_id, r.name AS group_name,\n",
    "           b.id AS parent_id, b.name AS building_name\n",
    "    FROM density_data d\n",
    "    JOIN routers r ON r.id = d.group_id\n",
    "    JOIN buildings b ON b.id = r.building_id\"\"\""
   ]
  },
  {
   "cell_type": "code",
   "execution_count": 16,
   "metadata": {
    "collapsed": true
   },
   "outputs": [],
   "source": [
    "def db_to_pandas(conn):\n",
    "    \"\"\" Return occupancy data as pandas dataframe\n",
    "    column dtypes:\n",
    "        group_id: int64\n",
    "        group_name: category\n",
    "        parent_id: int64\n",
    "        parent_name: category\n",
    "        client_count: int64\n",
    "        week: int64\n",
    "        weekday: int64\n",
    "        time_point: string\n",
    "    index: DateTimeIndex -- dump_time\n",
    "    Parameters\n",
    "    ----------\n",
    "    conn: psycopg2.extensions.connection\n",
    "        Connection to db\n",
    "    Returns\n",
    "    -------\n",
    "    pandas.DataFrame\n",
    "        Density data in a Dataframe\n",
    "    \"\"\"\n",
    "\n",
    "    df = pd.read_sql(SELECT, conn) \\\n",
    "           .set_index(\"dump_time\") \\\n",
    "           .assign(group_name=lambda df: df[\"group_name\"].astype('category'),\n",
    "                   parent_id=lambda df: df[\"parent_id\"].astype('category'))\n",
    "    df['week'] = df.index.weekofyear  # get week of the year (1-52) for a given timestamp\n",
    "    df['weekday'] = df.index.weekday  # get day of the week (1-7) for a given timestamp\n",
    "    time_points = zip(df.index.hour, df.index.minute)\n",
    "    time_points = [\"{}:{}\".format(x[0], x[1]) for x in time_points]\n",
    "    df[\"time_point\"] = time_points # get time of the day (HH:mm) for a given timestamp\n",
    "    \n",
    "    return df\n"
   ]
  },
  {
   "cell_type": "code",
   "execution_count": 17,
   "metadata": {
    "collapsed": true
   },
   "outputs": [],
   "source": [
    "def parse_by_week(df):\n",
    "    \"\"\"Return a dictionary of dataframes where the keys are days of the week\n",
    "    Parameters\n",
    "    ----------\n",
    "    df: pandas.DataFrame\n",
    "        Density data in a Dataframe\n",
    "    Returns\n",
    "    -------\n",
    "    Dictionary\n",
    "        a dictionary of dataframes where the keys are days of the week\n",
    "    \"\"\"\n",
    "    weeks = np.unique(df['week'])\n",
    "    week_dic = dict.fromkeys(weeks)\n",
    "    \n",
    "    for week in weeks:\n",
    "        week_dic[week] = df[df['week'] == week]\n",
    "    \n",
    "    return week_dic"
   ]
  },
  {
   "cell_type": "code",
   "execution_count": 18,
   "metadata": {
    "collapsed": true
   },
   "outputs": [],
   "source": [
    "def predict_tomorrow(day_dict):\n",
    "    \"\"\"Return a dataframes of predicted counts for tomorrow \n",
    "    where the indexs are timestamps of the week and columns are locations\n",
    "    Parameters\n",
    "    ----------\n",
    "    day_dict: Dictionary\n",
    "        a dictionary of dataframes of density data where the keys are days of the week\n",
    "    Returns\n",
    "    -------\n",
    "    pandas.DataFrame\n",
    "        Dataframe containing predicted counts\n",
    "    \"\"\"\n",
    "    # get time stats for tomorrow\n",
    "    tomorrow = datetime.datetime.today() + datetime.timedelta(days=1)\n",
    "    day_of_week = tomorrow.weekday()\n",
    "    week_of_year = tomorrow.isocalendar()[1]\n",
    "    \n",
    "    # find past data for the given day of the week\n",
    "    past_data = day_dict[week_of_year]\n",
    "    past_data = past_data[past_data['weekday'] == day_of_week]\n",
    "    \n",
    "    results, locs = [], []\n",
    "    for group in np.unique(past_data[\"group_name\"]):\n",
    "        locs.append(group)\n",
    "        group_data = past_data[past_data[\"group_name\"] == group]\n",
    "        group_data = group_data[[\"client_count\", \"time_point\"]]\n",
    "        group_result = group_data.groupby(\"time_point\").mean()  # average counts by time for each location\n",
    "        results.append(group_result.transpose())\n",
    "    result = pd.concat(results)  # combine the data for all locations\n",
    "    result.index = locs\n",
    "    result = result.transpose()  # make time points indexes and locations columns\n",
    "    \n",
    "    old_indexes = result.index\n",
    "    new_indexes = []\n",
    "\n",
    "    # make sure all time index has the same string format\n",
    "    for index in old_indexes:\n",
    "        splited = index.split(\":\")\n",
    "        leading, trailing = splited[0], splited[1]\n",
    "        if len(leading) == 1:\n",
    "            leading = \"0\" + leading\n",
    "        new_index = leading + \":\" + trailing\n",
    "        new_indexes.append(new_index)\n",
    "\n",
    "    result.index = new_indexes\n",
    "    result = result.sort_index()\n",
    "    \n",
    "    return result"
   ]
  },
  {
   "cell_type": "code",
   "execution_count": 19,
   "metadata": {
    "collapsed": true
   },
   "outputs": [],
   "source": [
    "data = db_to_pandas(conn)"
   ]
  },
  {
   "cell_type": "code",
   "execution_count": 24,
   "metadata": {},
   "outputs": [
    {
     "data": {
      "text/plain": [
       "Index(['client_count', 'group_id', 'group_name', 'parent_id', 'building_name',\n",
       "       'week', 'weekday', 'time_point'],\n",
       "      dtype='object')"
      ]
     },
     "execution_count": 24,
     "metadata": {},
     "output_type": "execute_result"
    }
   ],
   "source": [
    "data.columns"
   ]
  },
  {
   "cell_type": "code",
   "execution_count": 20,
   "metadata": {
    "collapsed": true
   },
   "outputs": [],
   "source": [
    "by_week = parse_by_week(data)"
   ]
  },
  {
   "cell_type": "code",
   "execution_count": 21,
   "metadata": {
    "collapsed": true
   },
   "outputs": [],
   "source": [
    "tp = predict_tomorrow(by_week)"
   ]
  },
  {
   "cell_type": "code",
   "execution_count": 15,
   "metadata": {},
   "outputs": [
    {
     "data": {
      "image/png": "[encoded data removed]",
      "text/plain": [
       "<matplotlib.figure.Figure at 0x12e26d278>"
      ]
     },
     "metadata": {},
     "output_type": "display_data"
    }
   ],
   "source": [
    "tmp = tp[['Science and Engineering Library', 'Butler Library 2', 'Butler Library 3', 'Butler Library 4']]\n",
    "tmp.plot()\n",
    "plt.show()"
   ]
  },
  {
   "cell_type": "code",
   "execution_count": null,
   "metadata": {
    "collapsed": true
   },
   "outputs": [],
   "source": []
  }
 ],
 "metadata": {
  "kernelspec": {
   "display_name": "Python 3",
   "language": "python",
   "name": "python3"
  },
  "language_info": {
   "codemirror_mode": {
    "name": "ipython",
    "version": 3
   },
   "file_extension": ".py",
   "mimetype": "text/x-python",
   "name": "python",
   "nbconvert_exporter": "python",
   "pygments_lexer": "ipython3",
   "version": "3.6.1"
  }
 },
 "nbformat": 4,
 "nbformat_minor": 2
}
